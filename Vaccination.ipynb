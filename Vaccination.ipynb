{
  "nbformat": 4,
  "nbformat_minor": 0,
  "metadata": {
    "colab": {
      "name": "Vaccination.ipynb",
      "provenance": [],
      "authorship_tag": "ABX9TyP6Am6PliQ5F/8WfDow2PL+",
      "include_colab_link": true
    },
    "kernelspec": {
      "name": "python3",
      "display_name": "Python 3"
    }
  },
  "cells": [
    {
      "cell_type": "markdown",
      "metadata": {
        "id": "view-in-github",
        "colab_type": "text"
      },
      "source": [
        "<a href=\"https://colab.research.google.com/github/microprediction/microblog/blob/main/Vaccination.ipynb\" target=\"_parent\"><img src=\"https://colab.research.google.com/assets/colab-badge.svg\" alt=\"Open In Colab\"/></a>"
      ]
    },
    {
      "cell_type": "code",
      "metadata": {
        "id": "4GA4jSlztGi3"
      },
      "source": [
        "from scipy.special import lambertw \n",
        "from scipy.stats import norm\n",
        "from scipy.integrate import quadrature\n",
        "r = 1.3\n",
        "import math\n",
        "import numpy as np\n"
      ],
      "execution_count": null,
      "outputs": []
    },
    {
      "cell_type": "code",
      "metadata": {
        "id": "ROBT70EXIIDN"
      },
      "source": [
        "from microconventions.stats_conventions import StatsConventions\n"
      ],
      "execution_count": null,
      "outputs": []
    },
    {
      "cell_type": "code",
      "metadata": {
        "id": "FiFdGCRHtOnm"
      },
      "source": [
        "def eventual(r,s=1):\n",
        "  return 1+np.real(lambertw(-s*r*math.exp(-r))/r)"
      ],
      "execution_count": null,
      "outputs": []
    },
    {
      "cell_type": "code",
      "metadata": {
        "id": "nmRYpRkW_hnA",
        "outputId": "7a285660-b10d-49f8-88bf-ee39f3bbd652",
        "colab": {
          "base_uri": "https://localhost:8080/"
        }
      },
      "source": [
        "eventual(4.1)"
      ],
      "execution_count": null,
      "outputs": [
        {
          "output_type": "execute_result",
          "data": {
            "text/plain": [
              "0.9821704646039714"
            ]
          },
          "metadata": {
            "tags": []
          },
          "execution_count": 201
        }
      ]
    },
    {
      "cell_type": "code",
      "metadata": {
        "id": "0y7reFBoIfoS",
        "outputId": "001cac4c-c3ac-43ee-9bca-e77a2b4fcd98",
        "colab": {
          "base_uri": "https://localhost:8080/"
        }
      },
      "source": [
        "def normpdf(x,mu,sigma):\n",
        "    return 1/sigma*norm.pdf((x-mu)/sigma)\n",
        "np.sum([ normpdf(x,mu=0,sigma=5) for x in np.linspace(-20,20,40*1000)])/1000"
      ],
      "execution_count": null,
      "outputs": [
        {
          "output_type": "execute_result",
          "data": {
            "text/plain": [
              "0.9999116858623723"
            ]
          },
          "metadata": {
            "tags": []
          },
          "execution_count": 105
        }
      ]
    },
    {
      "cell_type": "code",
      "metadata": {
        "id": "4Oh_G1ZeAohO"
      },
      "source": [
        "def avg_eventual(r,s=1,sigma=1.0):\n",
        "   def rtimes(u):\n",
        "      return [normpdf(x=u_,mu=r,sigma=sigma)*eventual(u_) for u_ in u]\n",
        "   return quadrature(rtimes, a=max(1,r-3*sigma), b=r+3*sigma)[0]\n"
      ],
      "execution_count": null,
      "outputs": []
    },
    {
      "cell_type": "code",
      "metadata": {
        "id": "ttY6F93rDj0p",
        "outputId": "345dd3d5-816a-40b4-ad07-a8d69dd6f3be",
        "colab": {
          "base_uri": "https://localhost:8080/"
        }
      },
      "source": [
        "avg_eventual(r=1.5,sigma=2)"
      ],
      "execution_count": null,
      "outputs": [
        {
          "output_type": "execute_result",
          "data": {
            "text/plain": [
              "0.47758736075406694"
            ]
          },
          "metadata": {
            "tags": []
          },
          "execution_count": 127
        }
      ]
    },
    {
      "cell_type": "code",
      "metadata": {
        "id": "wTdmrPS-Enbk",
        "outputId": "5cf95f95-c431-44df-dfa4-564ee1cde0cb",
        "colab": {
          "base_uri": "https://localhost:8080/",
          "height": 279
        }
      },
      "source": [
        "xs = np.linspace(-1.0,5.0,500)\n",
        "ys = [avg_eventual(x,sigma=0.5) for x in xs]\n",
        "import matplotlib.pyplot as plt\n",
        "gradient = [dx*100 for dx in [0]+list(np.diff(ys))]\n",
        "plt.plot(xs,ys,xs,gradient)\n",
        "plt.xlabel('Reproduction estimate')\n",
        "plt.ylabel('Expected total infected')\n",
        "plt.legend(['Infected','Derivative (scaled)'])\n",
        "plt.grid()\n"
      ],
      "execution_count": null,
      "outputs": [
        {
          "output_type": "display_data",
          "data": {
            "image/png": "[encoded data removed]",
            "text/plain": [
              "<Figure size 432x288 with 1 Axes>"
            ]
          },
          "metadata": {
            "tags": [],
            "needs_background": "light"
          }
        }
      ]
    },
    {
      "cell_type": "code",
      "metadata": {
        "id": "LEPlRX0Wb7ip"
      },
      "source": [
        "!pip install shgo"
      ],
      "execution_count": null,
      "outputs": []
    },
    {
      "cell_type": "code",
      "metadata": {
        "id": "8DffWVHsb8VG"
      },
      "source": [
        "# Intervention optimization example \n",
        "# We can reason as to what the solution will look like in advance but let's\n",
        "# debug our thoughts. \n",
        "\n",
        "n = 6\n",
        "T = 6 # Intervention budget\n",
        "ri = np.linspace(2,5,n) # Initial r value observations (with errors)\n",
        "def f(xs):\n",
        "   \"\"\" \n",
        "       xs: vector of interventions, len n\n",
        "   \"\"\"\n",
        "   over = np.sum(xs)-T \n",
        "   penalty = over*over\n",
        "   xi = [ r-x for r,x in zip(list(ri),list(xs)) ]\n",
        "   return np.sum([ avg_eventual(r=xi_,s=1,sigma=0.5) for xi_ in xi])+penalty\n",
        "   \n",
        "bounds = [(0, 4.0),]*n"
      ],
      "execution_count": null,
      "outputs": []
    },
    {
      "cell_type": "code",
      "metadata": {
        "id": "r09K5Hpn47qp",
        "outputId": "40f4efd5-cdef-410d-f1cb-d7195c1c604a",
        "colab": {
          "base_uri": "https://localhost:8080/"
        }
      },
      "source": [
        "f(np.array([1,1,1,1]))"
      ],
      "execution_count": null,
      "outputs": [
        {
          "output_type": "execute_result",
          "data": {
            "text/plain": [
              "6.475524955453402"
            ]
          },
          "metadata": {
            "tags": []
          },
          "execution_count": 231
        }
      ]
    },
    {
      "cell_type": "code",
      "metadata": {
        "id": "_XCG3Fh6d0tI"
      },
      "source": [
        "from shgo import shgo\n",
        "res = shgo(f, bounds, n=50, iters=5)"
      ],
      "execution_count": null,
      "outputs": []
    },
    {
      "cell_type": "code",
      "metadata": {
        "id": "Eqq4_y2Z1xMV",
        "outputId": "7df8e985-4bf6-443c-f9f9-f86994b01929",
        "colab": {
          "base_uri": "https://localhost:8080/"
        }
      },
      "source": [
        "res"
      ],
      "execution_count": null,
      "outputs": [
        {
          "output_type": "execute_result",
          "data": {
            "text/plain": [
              "     fun: 2.3533268016920266\n",
              "    funl: array([2.3533268, 2.3533268])\n",
              " message: 'Optimization terminated successfully.'\n",
              "    nfev: 385\n",
              "     nit: 5\n",
              "   nlfev: 129\n",
              "   nlhev: 0\n",
              "   nljev: 21\n",
              " success: True\n",
              "    tnev: 379\n",
              "       x: array([1.10634530e+00, 2.10634533e+00, 1.66533454e-16, 1.11022302e-16])\n",
              "      xl: array([[1.10634530e+00, 2.10634533e+00, 1.66533454e-16, 1.11022302e-16],\n",
              "       [1.10634441e+00, 2.10634604e+00, 1.14087598e-14, 0.00000000e+00]])"
            ]
          },
          "metadata": {
            "tags": []
          },
          "execution_count": 226
        }
      ]
    },
    {
      "cell_type": "code",
      "metadata": {
        "id": "H1wlnUigkl1F",
        "outputId": "0a639176-940f-4721-a5a7-a400e344ae97",
        "colab": {
          "base_uri": "https://localhost:8080/"
        }
      },
      "source": [
        "res.x # interventions"
      ],
      "execution_count": null,
      "outputs": [
        {
          "output_type": "execute_result",
          "data": {
            "text/plain": [
              "array([1.43732117, 2.03732113, 2.63732111, 0.        , 0.        ,\n",
              "       0.        ])"
            ]
          },
          "metadata": {
            "tags": []
          },
          "execution_count": 233
        }
      ]
    },
    {
      "cell_type": "code",
      "metadata": {
        "id": "p4NXe1uOlGJ4",
        "outputId": "7ff75da3-33d5-4660-c3d4-bac28f4cb16f",
        "colab": {
          "base_uri": "https://localhost:8080/"
        }
      },
      "source": [
        "xt = [ i-xi for i,xi in zip(ri,res.x)] # terminal positions\n",
        "xt"
      ],
      "execution_count": null,
      "outputs": [
        {
          "output_type": "execute_result",
          "data": {
            "text/plain": [
              "[0.562678829107089, 0.5626788685698978, 0.5626788861423155, 3.8, 4.4, 5.0]"
            ]
          },
          "metadata": {
            "tags": []
          },
          "execution_count": 251
        }
      ]
    },
    {
      "cell_type": "code",
      "metadata": {
        "id": "iK3YMJCq3_cI",
        "outputId": "869e7247-586a-48b2-8299-e252a465fc23",
        "colab": {
          "base_uri": "https://localhost:8080/"
        }
      },
      "source": [
        "f(res.x)"
      ],
      "execution_count": null,
      "outputs": [
        {
          "output_type": "execute_result",
          "data": {
            "text/plain": [
              "3.1480212194521524"
            ]
          },
          "metadata": {
            "tags": []
          },
          "execution_count": 246
        }
      ]
    },
    {
      "cell_type": "code",
      "metadata": {
        "id": "L_W0Q5jBGcJ1",
        "outputId": "06310334-a615-48c7-f70e-3c6f287eacdb",
        "colab": {
          "base_uri": "https://localhost:8080/",
          "height": 351
        }
      },
      "source": [
        "plt.rcParams[\"figure.figsize\"] = (8,5)\n",
        "yt = [ avg_eventual(r=x,s=1,sigma=0.5)-0.02 for x in xt ]\n",
        "yi = [ avg_eventual(r=x,s=1,sigma=0.5)+0.02 for x in ri ]\n",
        "plt.scatter(ri,yi,c='g')\n",
        "plt.scatter(xt,yt,alpha=0.5,c='b')\n",
        "plt.legend(['before','after'])\n",
        "_x = np.linspace(0,6,200)\n",
        "_y = [ avg_eventual(r=_xi,sigma=0.5) for _xi in _x]\n",
        "plt.plot(_x,_y,':k')\n",
        "plt.xlabel('Noisy estimate of reproduction number')\n",
        "plt.ylabel('Total sufferers')\n"
      ],
      "execution_count": null,
      "outputs": [
        {
          "output_type": "execute_result",
          "data": {
            "text/plain": [
              "Text(0, 0.5, 'Total sufferers')"
            ]
          },
          "metadata": {
            "tags": []
          },
          "execution_count": 287
        },
        {
          "output_type": "display_data",
          "data": {
            "image/png": "[encoded data removed]",
            "text/plain": [
              "<Figure size 576x360 with 1 Axes>"
            ]
          },
          "metadata": {
            "tags": [],
            "needs_background": "light"
          }
        }
      ]
    }
  ]
}