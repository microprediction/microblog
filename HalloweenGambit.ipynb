{
  "nbformat": 4,
  "nbformat_minor": 0,
  "metadata": {
    "colab": {
      "name": "HalloweenGambit.ipynb",
      "provenance": [],
      "authorship_tag": "ABX9TyNF8//l+YmTCtd+erEdPITG",
      "include_colab_link": true
    },
    "kernelspec": {
      "name": "python3",
      "display_name": "Python 3"
    }
  },
  "cells": [
    {
      "cell_type": "markdown",
      "metadata": {
        "id": "view-in-github",
        "colab_type": "text"
      },
      "source": [
        "<a href=\"https://colab.research.google.com/github/microprediction/microblog/blob/main/HalloweenGambit.ipynb\" target=\"_parent\"><img src=\"https://colab.research.google.com/assets/colab-badge.svg\" alt=\"Open In Colab\"/></a>"
      ]
    },
    {
      "cell_type": "code",
      "metadata": {
        "id": "8yBmh51MpnFg"
      },
      "source": [
        "!pip install getjson\n",
        "!pip install elosports"
      ],
      "execution_count": null,
      "outputs": []
    },
    {
      "cell_type": "code",
      "metadata": {
        "colab": {
          "base_uri": "https://localhost:8080/"
        },
        "id": "EoduPtvFsosn",
        "outputId": "28e1437b-56b5-4095-d732-f2ca8a40516f"
      },
      "source": [
        "# My New Year's resolution is to become the World's leading authority on \n",
        "# the  Halloween Gambit. This spreadsheet is intended to capture my conditional \n",
        "# bullet rating and ascertain whether or not playing this gambit really\n",
        "# helps as much as I think it does. \n",
        "#\n",
        "# You can follow my feeble efforts at https://twitch.tv/microprediction\n",
        "\n",
        "from getjson import getjson\n",
        "results=list()\n",
        "import numpy as np \n",
        "\n",
        "HANDLE = 'PinIsMightier'\n",
        "TIME_CONTROL = \"60\"\n",
        "\n",
        "def game_score(game_result):\n",
        "    if game_result in ['win']:\n",
        "        return 1.0\n",
        "    elif game_result in ['agreed','insufficient','repetition','timevsinsufficient']:\n",
        "        return 0.5 \n",
        "    elif game_result in ['timeout','resigned','checkmated','abandoned']:\n",
        "        return 0.0\n",
        "    else:\n",
        "      print(game_result+' is not classified yet.') \n",
        "      return np.nan\n",
        "\n",
        "\n",
        "WHITE_ELO_ADVANTAGE = 10\n",
        "for year in range(2021,2022):\n",
        "  print(\"year \"+str(year))\n",
        "  for month in range(1,13):\n",
        "    url = 'https://api.chess.com/pub/player/'+HANDLE+'/games/'+str(year)+'/'+str(month).zfill(2) \n",
        "    data = getjson(url=url)\n",
        "    if data.get('games'):\n",
        "      for game in data['games']:\n",
        "          if 'Halloween-Gambit' in game['pgn']:\n",
        "             if game['time_control']==str(TIME_CONTROL):\n",
        "                game_result = game['white']['result']\n",
        "                score = game_score(game_result)\n",
        "                rating = game['white']['rating']\n",
        "                opp_rating = game['black']['rating']\n",
        "                expected_score = 1/(10.0**((opp_rating-WHITE_ELO_ADVANTAGE-rating)/400)+1 )\n",
        "                results.append( (opp_rating, score, expected_score) )\n",
        "                print((opp_rating,score,game_result, expected_score))\n",
        "     "
      ],
      "execution_count": 28,
      "outputs": [
        {
          "output_type": "stream",
          "text": [
            "year 2021\n",
            "(1866, 1.0, 'win', 0.6571186864870786)\n",
            "(1850, 1.0, 'win', 0.6007782458900109)\n",
            "(2042, 1.0, 'win', 0.34029200585525193)\n",
            "(2019, 1.0, 'win', 0.403370826694226)\n",
            "(2017, 0.0, 'timeout', 0.3746486066924632)\n"
          ],
          "name": "stdout"
        }
      ]
    },
    {
      "cell_type": "code",
      "metadata": {
        "colab": {
          "base_uri": "https://localhost:8080/",
          "height": 297
        },
        "id": "rWuIHq_puRUm",
        "outputId": "85c3b398-3fb1-486c-cd47-413511037c47"
      },
      "source": [
        "from elosports.elo import Elo\n",
        "# Don't ask me why I'm importing this since Elo is so trivial but anyway...\n",
        "eloLeague = Elo(k=100,homefield=0)\n",
        "eloLeague.addPlayer(\"Me\",rating=2300)\n",
        "ratings = list()\n",
        "edge = list()\n",
        "for opp_rating, score, expected_score in results:\n",
        "    eloLeague.addPlayer(\"Billy\", rating=opp_rating)\n",
        "    if score>0.9:\n",
        "      eloLeague.gameOver(winner = \"Me\", loser = \"Billy\", winnerHome=True)\n",
        "    elif score<0.1:\n",
        "      eloLeague.gameOver(winner = \"Billy\", loser = \"Me\", winnerHome=False)\n",
        "    ratings.append(eloLeague.ratingDict['Me'])\n",
        "    edge.append(score-expected_score)\n",
        "import matplotlib.pyplot as plt\n",
        "plt.plot(ratings)\n",
        "plt.grid()\n",
        "plt.xlabel('Elo')\n",
        "plt.ylabel('Games')"
      ],
      "execution_count": 29,
      "outputs": [
        {
          "output_type": "execute_result",
          "data": {
            "text/plain": [
              "Text(0, 0.5, 'Games')"
            ]
          },
          "metadata": {
            "tags": []
          },
          "execution_count": 29
        },
        {
          "output_type": "display_data",
          "data": {
            "image/png": "[encoded data removed]",
            "text/plain": [
              "<Figure size 432x288 with 1 Axes>"
            ]
          },
          "metadata": {
            "tags": [],
            "needs_background": "light"
          }
        }
      ]
    },
    {
      "cell_type": "code",
      "metadata": {
        "colab": {
          "base_uri": "https://localhost:8080/",
          "height": 299
        },
        "id": "oM1KhxcHx3Ll",
        "outputId": "c39c107d-0ef3-4426-c1b2-127bfdf19a5c"
      },
      "source": [
        "plt.plot(np.cumsum(edge))\n",
        "plt.title('Mean edge is '+str(np.mean(edge)))\n",
        "plt.ylabel('Extra games won')"
      ],
      "execution_count": 30,
      "outputs": [
        {
          "output_type": "execute_result",
          "data": {
            "text/plain": [
              "Text(0, 0.5, 'Extra games won')"
            ]
          },
          "metadata": {
            "tags": []
          },
          "execution_count": 30
        },
        {
          "output_type": "display_data",
          "data": {
            "image/png": "[encoded data removed]",
            "text/plain": [
              "<Figure size 432x288 with 1 Axes>"
            ]
          },
          "metadata": {
            "tags": [],
            "needs_background": "light"
          }
        }
      ]
    },
    {
      "cell_type": "code",
      "metadata": {
        "colab": {
          "base_uri": "https://localhost:8080/",
          "height": 202
        },
        "id": "k2RuIz8rylpq",
        "outputId": "33417464-0f8a-492a-b317-ca7174558a5c"
      },
      "source": [
        "import pandas as pd \n",
        "df = pd.DataFrame.from_records(results, columns=['opp_rating','score','expected_score'])\n",
        "df[-10:]"
      ],
      "execution_count": 32,
      "outputs": [
        {
          "output_type": "execute_result",
          "data": {
            "text/html": [
              "<div>\n",
              "<style scoped>\n",
              "    .dataframe tbody tr th:only-of-type {\n",
              "        vertical-align: middle;\n",
              "    }\n",
              "\n",
              "    .dataframe tbody tr th {\n",
              "        vertical-align: top;\n",
              "    }\n",
              "\n",
              "    .dataframe thead th {\n",
              "        text-align: right;\n",
              "    }\n",
              "</style>\n",
              "<table border=\"1\" class=\"dataframe\">\n",
              "  <thead>\n",
              "    <tr style=\"text-align: right;\">\n",
              "      <th></th>\n",
              "      <th>opp_rating</th>\n",
              "      <th>score</th>\n",
              "      <th>expected_score</th>\n",
              "    </tr>\n",
              "  </thead>\n",
              "  <tbody>\n",
              "    <tr>\n",
              "      <th>0</th>\n",
              "      <td>1866</td>\n",
              "      <td>1.0</td>\n",
              "      <td>0.657119</td>\n",
              "    </tr>\n",
              "    <tr>\n",
              "      <th>1</th>\n",
              "      <td>1850</td>\n",
              "      <td>1.0</td>\n",
              "      <td>0.600778</td>\n",
              "    </tr>\n",
              "    <tr>\n",
              "      <th>2</th>\n",
              "      <td>2042</td>\n",
              "      <td>1.0</td>\n",
              "      <td>0.340292</td>\n",
              "    </tr>\n",
              "    <tr>\n",
              "      <th>3</th>\n",
              "      <td>2019</td>\n",
              "      <td>1.0</td>\n",
              "      <td>0.403371</td>\n",
              "    </tr>\n",
              "    <tr>\n",
              "      <th>4</th>\n",
              "      <td>2017</td>\n",
              "      <td>0.0</td>\n",
              "      <td>0.374649</td>\n",
              "    </tr>\n",
              "  </tbody>\n",
              "</table>\n",
              "</div>"
            ],
            "text/plain": [
              "   opp_rating  score  expected_score\n",
              "0        1866    1.0        0.657119\n",
              "1        1850    1.0        0.600778\n",
              "2        2042    1.0        0.340292\n",
              "3        2019    1.0        0.403371\n",
              "4        2017    0.0        0.374649"
            ]
          },
          "metadata": {
            "tags": []
          },
          "execution_count": 32
        }
      ]
    }
  ]
}