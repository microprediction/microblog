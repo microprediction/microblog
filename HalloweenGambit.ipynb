{
  "nbformat": 4,
  "nbformat_minor": 0,
  "metadata": {
    "colab": {
      "name": "HalloweenGambit.ipynb",
      "provenance": [],
      "include_colab_link": true
    },
    "kernelspec": {
      "name": "python3",
      "display_name": "Python 3"
    }
  },
  "cells": [
    {
      "cell_type": "markdown",
      "metadata": {
        "id": "view-in-github",
        "colab_type": "text"
      },
      "source": [
        "<a href=\"https://colab.research.google.com/github/microprediction/microblog/blob/main/HalloweenGambit.ipynb\" target=\"_parent\"><img src=\"https://colab.research.google.com/assets/colab-badge.svg\" alt=\"Open In Colab\"/></a>"
      ]
    },
    {
      "cell_type": "code",
      "metadata": {
        "id": "8yBmh51MpnFg"
      },
      "source": [
        "!pip install getjson\n",
        "!pip install elosports"
      ],
      "execution_count": null,
      "outputs": []
    },
    {
      "cell_type": "code",
      "metadata": {
        "colab": {
          "base_uri": "https://localhost:8080/"
        },
        "id": "EoduPtvFsosn",
        "outputId": "b2384338-9af2-4209-e3bd-3ece03fd1414"
      },
      "source": [
        "# My New Year's resolution is to become the World's leading authority on \n",
        "# the  Halloween Gambit. This spreadsheet is intended to capture my conditional \n",
        "# bullet rating and ascertain whether or not playing this gambit really\n",
        "# helps as much as I think it does. \n",
        "#\n",
        "# You can follow my feeble efforts at https://twitch.tv/microprediction\n",
        "\n",
        "from getjson import getjson\n",
        "results=list()\n",
        "import numpy as np \n",
        "\n",
        "HANDLE = 'PinIsMightier'\n",
        "TIME_CONTROL = \"60\"\n",
        "\n",
        "def game_score(game_result):\n",
        "    if game_result in ['win']:\n",
        "        return 1.0\n",
        "    elif game_result in ['agreed','insufficient','repetition','timevsinsufficient']:\n",
        "        return 0.5 \n",
        "    elif game_result in ['timeout','resigned','checkmated','abandoned']:\n",
        "        return 0.0\n",
        "    else:\n",
        "      print(game_result+' is not classified yet.') \n",
        "      return np.nan\n",
        "\n",
        "\n",
        "WHITE_ELO_ADVANTAGE = 10\n",
        "for year in range(2021,2022):\n",
        "  print(\"year \"+str(year))\n",
        "  for month in range(1,13):\n",
        "    url = 'https://api.chess.com/pub/player/'+HANDLE+'/games/'+str(year)+'/'+str(month).zfill(2) \n",
        "    data = getjson(url=url)\n",
        "    if data.get('games'):\n",
        "      for game in data['games']:\n",
        "          if 'Halloween-Gambit' in game['pgn']:\n",
        "             if game['time_control']==str(TIME_CONTROL):\n",
        "                game_result = game['white']['result']\n",
        "                score = game_score(game_result)\n",
        "                rating = game['white']['rating']\n",
        "                opp_rating = game['black']['rating']\n",
        "                expected_score = 1/(10.0**((opp_rating-WHITE_ELO_ADVANTAGE-rating)/400)+1 )\n",
        "                results.append( (opp_rating, score, expected_score) )\n",
        "                print((opp_rating,score,game_result, expected_score))\n",
        "     "
      ],
      "execution_count": 2,
      "outputs": [
        {
          "output_type": "stream",
          "text": [
            "year 2021\n",
            "(1866, 1.0, 'win', 0.6571186864870786)\n",
            "(1850, 1.0, 'win', 0.6007782458900109)\n",
            "(2042, 1.0, 'win', 0.34029200585525193)\n",
            "(2019, 1.0, 'win', 0.403370826694226)\n",
            "(2017, 0.0, 'timeout', 0.3746486066924632)\n",
            "(1907, 1.0, 'win', 0.5416377027147634)\n",
            "(2018, 0.0, 'resigned', 0.45979177167625435)\n",
            "(1997, 1.0, 'win', 0.49424379158885506)\n",
            "(2020, 0.0, 'checkmated', 0.46694860611555894)\n",
            "(1969, 1.0, 'win', 0.5530468951694625)\n",
            "(1970, 0.0, 'timeout', 0.5186997779295586)\n",
            "(1906, 1.0, 'win', 0.5993967967092568)\n",
            "(1932, 1.0, 'win', 0.6648579785547648)\n",
            "(1903, 1.0, 'win', 0.7199190059471519)\n",
            "(2070, 0.5, 'timevsinsufficient', 0.4971218004251891)\n",
            "(1889, 1.0, 'win', 0.6427130688326204)\n",
            "(1870, 0.0, 'timeout', 0.6813218351663937)\n",
            "(2055, 1.0, 'win', 0.5316182978281073)\n",
            "(2046, 0.0, 'timeout', 0.5129491448928637)\n",
            "(2068, 0.0, 'timeout', 0.48705085510713625)\n",
            "(1990, 0.0, 'timeout', 0.5530468951694625)\n",
            "(2063, 1.0, 'win', 0.5530468951694625)\n",
            "(2110, 1.0, 'win', 0.626699081666732)\n",
            "(2579, 0.0, 'resigned', 0.06097834165795565)\n",
            "(2082, 1.0, 'win', 0.5430664920222119)\n",
            "(2000, 1.0, 'win', 0.5742802036545245)\n",
            "(2018, 0.0, 'checkmated', 0.581301478368915)\n",
            "(2214, 0.0, 'timeout', 0.48561281583400134)\n",
            "(2141, 0.5, 'repetition', 0.5215733330511455)\n",
            "(2083, 1.0, 'win', 0.5416377027147634)\n",
            "(2206, 1.0, 'win', 0.3787032768775454)\n",
            "(2124, 0.0, 'timeout', 0.384135895746244)\n",
            "(2040, 1.0, 'win', 0.5868950233791)\n",
            "(2105, 1.0, 'win', 0.5)\n",
            "(1993, 1.0, 'win', 0.6597079941447481)\n",
            "(2149, 1.0, 'win', 0.5014391117091528)\n",
            "(2240, 0.0, 'timeout', 0.29902260138989206)\n",
            "(2082, 1.0, 'win', 0.5100724469274385)\n",
            "(2082, 1.0, 'win', 0.5100724469274385)\n",
            "(2066, 1.0, 'win', 0.5558909611168531)\n",
            "(2052, 1.0, 'win', 0.5952430396515719)\n",
            "(2055, 0.0, 'timeout', 0.5868950233791)\n",
            "(2057, 1.0, 'win', 0.581301478368915)\n",
            "(2056, 1.0, 'win', 0.6049129020079569)\n",
            "(2052, 0.0, 'checkmated', 0.584100958813678)\n",
            "(2220, 1.0, 'win', 0.36259162325551547)\n"
          ],
          "name": "stdout"
        }
      ]
    },
    {
      "cell_type": "code",
      "metadata": {
        "colab": {
          "base_uri": "https://localhost:8080/",
          "height": 297
        },
        "id": "rWuIHq_puRUm",
        "outputId": "55028f27-64cf-4080-e589-627d17b4d61d"
      },
      "source": [
        "from elosports.elo import Elo\n",
        "# Don't ask me why I'm importing this since Elo is so trivial but anyway...\n",
        "eloLeague = Elo(k=100,homefield=0)\n",
        "eloLeague.addPlayer(\"Me\",rating=2100)\n",
        "ratings = list()\n",
        "edge = list()\n",
        "for opp_rating, score, expected_score in results:\n",
        "    eloLeague.addPlayer(\"Billy\", rating=opp_rating)\n",
        "    if score>0.9:\n",
        "      eloLeague.gameOver(winner = \"Me\", loser = \"Billy\", winnerHome=True)\n",
        "    elif score<0.1:\n",
        "      eloLeague.gameOver(winner = \"Billy\", loser = \"Me\", winnerHome=False)\n",
        "    ratings.append(eloLeague.ratingDict['Me'])\n",
        "    edge.append(score-expected_score)\n",
        "import matplotlib.pyplot as plt\n",
        "plt.plot(ratings)\n",
        "plt.grid()\n",
        "plt.xlabel('Elo')\n",
        "plt.ylabel('Games')"
      ],
      "execution_count": 3,
      "outputs": [
        {
          "output_type": "execute_result",
          "data": {
            "text/plain": [
              "Text(0, 0.5, 'Games')"
            ]
          },
          "metadata": {
            "tags": []
          },
          "execution_count": 3
        },
        {
          "output_type": "display_data",
          "data": {
            "image/png": "[encoded data removed]",
            "text/plain": [
              "<Figure size 432x288 with 1 Axes>"
            ]
          },
          "metadata": {
            "tags": [],
            "needs_background": "light"
          }
        }
      ]
    },
    {
      "cell_type": "code",
      "metadata": {
        "colab": {
          "base_uri": "https://localhost:8080/",
          "height": 299
        },
        "id": "oM1KhxcHx3Ll",
        "outputId": "d55a1653-8d24-4c7f-f4bf-b58c8a3ef4c5"
      },
      "source": [
        "plt.plot(np.cumsum(edge))\n",
        "plt.title('Mean edge is '+str(np.mean(edge)))\n",
        "plt.ylabel('Extra games won')"
      ],
      "execution_count": 4,
      "outputs": [
        {
          "output_type": "execute_result",
          "data": {
            "text/plain": [
              "Text(0, 0.5, 'Extra games won')"
            ]
          },
          "metadata": {
            "tags": []
          },
          "execution_count": 4
        },
        {
          "output_type": "display_data",
          "data": {
            "image/png": "[encoded data removed]",
            "text/plain": [
              "<Figure size 432x288 with 1 Axes>"
            ]
          },
          "metadata": {
            "tags": [],
            "needs_background": "light"
          }
        }
      ]
    },
    {
      "cell_type": "code",
      "metadata": {
        "colab": {
          "base_uri": "https://localhost:8080/",
          "height": 202
        },
        "id": "k2RuIz8rylpq",
        "outputId": "33417464-0f8a-492a-b317-ca7174558a5c"
      },
      "source": [
        "import pandas as pd \n",
        "df = pd.DataFrame.from_records(results, columns=['opp_rating','score','expected_score'])\n",
        "df[-10:]"
      ],
      "execution_count": null,
      "outputs": [
        {
          "output_type": "execute_result",
          "data": {
            "text/html": [
              "<div>\n",
              "<style scoped>\n",
              "    .dataframe tbody tr th:only-of-type {\n",
              "        vertical-align: middle;\n",
              "    }\n",
              "\n",
              "    .dataframe tbody tr th {\n",
              "        vertical-align: top;\n",
              "    }\n",
              "\n",
              "    .dataframe thead th {\n",
              "        text-align: right;\n",
              "    }\n",
              "</style>\n",
              "<table border=\"1\" class=\"dataframe\">\n",
              "  <thead>\n",
              "    <tr style=\"text-align: right;\">\n",
              "      <th></th>\n",
              "      <th>opp_rating</th>\n",
              "      <th>score</th>\n",
              "      <th>expected_score</th>\n",
              "    </tr>\n",
              "  </thead>\n",
              "  <tbody>\n",
              "    <tr>\n",
              "      <th>0</th>\n",
              "      <td>1866</td>\n",
              "      <td>1.0</td>\n",
              "      <td>0.657119</td>\n",
              "    </tr>\n",
              "    <tr>\n",
              "      <th>1</th>\n",
              "      <td>1850</td>\n",
              "      <td>1.0</td>\n",
              "      <td>0.600778</td>\n",
              "    </tr>\n",
              "    <tr>\n",
              "      <th>2</th>\n",
              "      <td>2042</td>\n",
              "      <td>1.0</td>\n",
              "      <td>0.340292</td>\n",
              "    </tr>\n",
              "    <tr>\n",
              "      <th>3</th>\n",
              "      <td>2019</td>\n",
              "      <td>1.0</td>\n",
              "      <td>0.403371</td>\n",
              "    </tr>\n",
              "    <tr>\n",
              "      <th>4</th>\n",
              "      <td>2017</td>\n",
              "      <td>0.0</td>\n",
              "      <td>0.374649</td>\n",
              "    </tr>\n",
              "  </tbody>\n",
              "</table>\n",
              "</div>"
            ],
            "text/plain": [
              "   opp_rating  score  expected_score\n",
              "0        1866    1.0        0.657119\n",
              "1        1850    1.0        0.600778\n",
              "2        2042    1.0        0.340292\n",
              "3        2019    1.0        0.403371\n",
              "4        2017    0.0        0.374649"
            ]
          },
          "metadata": {
            "tags": []
          },
          "execution_count": 32
        }
      ]
    }
  ]
}