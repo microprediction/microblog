{
  "nbformat": 4,
  "nbformat_minor": 0,
  "metadata": {
    "colab": {
      "name": "The-Signal-And-The-Nate.ipynb",
      "provenance": [],
      "authorship_tag": "ABX9TyO8/59iRe6hgQbgXNT5HY6Z",
      "include_colab_link": true
    },
    "kernelspec": {
      "name": "python3",
      "display_name": "Python 3"
    }
  },
  "cells": [
    {
      "cell_type": "markdown",
      "metadata": {
        "id": "view-in-github",
        "colab_type": "text"
      },
      "source": [
        "<a href=\"https://colab.research.google.com/github/microprediction/microblog/blob/main/The_Signal_And_The_Nate.ipynb\" target=\"_parent\"><img src=\"https://colab.research.google.com/assets/colab-badge.svg\" alt=\"Open In Colab\"/></a>"
      ]
    },
    {
      "cell_type": "markdown",
      "metadata": {
        "id": "IG3JjYDNIFQ7"
      },
      "source": [
        "# FiveThirtyEight versus PredictIt\n",
        "Ex-post Brier and likelihood for FiveThirtyEight presidential state results in the 2020 Election. \n",
        "\n",
        "See article at www.microprediction.com/blog\n",
        "\n",
        "We perform both a naive comparison and one with a Longshot adjustment. "
      ]
    },
    {
      "cell_type": "code",
      "metadata": {
        "id": "Z_OaoEaEwB09"
      },
      "source": [
        ""
      ],
      "execution_count": null,
      "outputs": []
    },
    {
      "cell_type": "code",
      "metadata": {
        "id": "WonAhiCZwCx7"
      },
      "source": [
        ""
      ],
      "execution_count": null,
      "outputs": []
    },
    {
      "cell_type": "markdown",
      "metadata": {
        "id": "qJAhpMQgIdLJ"
      },
      "source": [
        "### Nate Silver's pre-election probabilities"
      ]
    },
    {
      "cell_type": "code",
      "metadata": {
        "id": "rO-SUYBIV8BV"
      },
      "source": [
        "import pandas as pd\n",
        "import math\n",
        "import numpy as np\n",
        "import matplotlib.pyplot as plt\n",
        "\n",
        "nate = pd.read_csv('https://projects.fivethirtyeight.com/2020-general-data/presidential_state_toplines_2020.csv')\n",
        "latest = nate.loc[nate['modeldate']=='11/3/2020',:]\n",
        "trump = latest[['state','winstate_inc']]\n",
        "nate = dict(zip(trump['state'].values,trump['winstate_inc'].values))"
      ],
      "execution_count": null,
      "outputs": []
    },
    {
      "cell_type": "markdown",
      "metadata": {
        "id": "PDYVrj2dIaAj"
      },
      "source": [
        "### PredictIt pre-election state prices\n",
        "Swing states only at first ... see further down for more states. Tediously copied from PredictIt's election map. Let me know if I got anything wrong! "
      ]
    },
    {
      "cell_type": "code",
      "metadata": {
        "id": "zyzfEqG82LA_"
      },
      "source": [
        "predictit_swing = {'Arizona':0.43,'Iowa':0.63,'Georgia':0.57,'Florida':0.58,'Minnesota':0.25,\n",
        "            'New Hampshire':0.21,'Pennsylvania':0.38,'North Carolina':0.47,'Texas':0.71,\n",
        "            'Michigan':0.30,'Wisconsin':0.28,'Ohio':0.68,'Alaska':0.88}\n",
        "\n",
        "\n"
      ],
      "execution_count": null,
      "outputs": []
    },
    {
      "cell_type": "markdown",
      "metadata": {
        "id": "8Vrz_b8FJaoj"
      },
      "source": [
        "### Results\n",
        "Right now we leave some states very close to 1 or 0 if they aren't called. I used Betfair prices for this. Results aren't super-sensitive to those approximations."
      ]
    },
    {
      "cell_type": "code",
      "metadata": {
        "id": "z4kkT3b-JdHa"
      },
      "source": [
        "trump_swing = {'Arizona':0,'Iowa':1,'Georgia':0.04,'Florida':1,'Minnesota':0,\n",
        "            'New Hampshire':0,'Pennsylvania':0,'North Carolina':0.94,'Texas':1,\n",
        "            'Michigan':0,'Wisconsin':0,'Ohio':1,'Alaska':1}"
      ],
      "execution_count": null,
      "outputs": []
    },
    {
      "cell_type": "markdown",
      "metadata": {
        "id": "clQlnN7dI_bF"
      },
      "source": [
        "### Compute Brier scores\n",
        "i.e. RMSE  of pre-post probability"
      ]
    },
    {
      "cell_type": "code",
      "metadata": {
        "id": "z3YiUh5p54ZN",
        "outputId": "0c01c329-8cce-48cd-a473-e4e5f4863d11",
        "colab": {
          "base_uri": "https://localhost:8080/"
        }
      },
      "source": [
        "nate_swing = dict([(s,p) for s,p in nate.items() if s in predictit_swing])\n",
        "nate_brier = [ (p-trump_swing[s])**2 for s,p in nate_swing.items() ]\n",
        "predictit_brier = [ (p-trump_swing[s])**2 for s,p in predictit_swing.items() ]\n",
        "math.sqrt(np.mean(nate_brier)),math.sqrt(np.mean(predictit_brier))"
      ],
      "execution_count": null,
      "outputs": [
        {
          "output_type": "execute_result",
          "data": {
            "text/plain": [
              "(0.35474296511428793, 0.3530417277581526)"
            ]
          },
          "metadata": {
            "tags": []
          },
          "execution_count": 7
        }
      ]
    },
    {
      "cell_type": "markdown",
      "metadata": {
        "id": "3iEnxHzzKDGM"
      },
      "source": [
        "Pretty close!  It is very hard for any one model to compete with a prediction market so in that sense, congrats to the FiveThirtyEight team.   \n",
        "\n",
        "## Longshot Effect Adjustment\n",
        "If you are not familiar with the LongShot effect, read the article \"The Signal and the Nate\" at www.microprediction.com/blog\n"
      ]
    },
    {
      "cell_type": "code",
      "metadata": {
        "id": "yDZq-OTEAh7k",
        "outputId": "ed5ee50f-5d98-4998-f566-750fe9c73587",
        "colab": {
          "base_uri": "https://localhost:8080/",
          "height": 297
        }
      },
      "source": [
        "def adjusted_brier(expon:float,predictions:dict,result:dict)->float:\n",
        "   \"\"\" Compute Brier score after longshot adjustment  \"\"\"\n",
        "   adjusted = dict([(s,p**expon/(p**expon+(1-p)**expon)) for s,p in predictions.items()])\n",
        "   return math.sqrt(np.mean([ (p-result[s])**2 for s,p in adjusted.items() ]))\n",
        "\n",
        "# We choose exponents that might be vaguely realistic economically\n",
        "# If I had to guess, 1.3 is probably not far off reality for betting markets\n",
        "# and as it happens, that would have served FiveThirtyEight well also.  \n",
        "# But the plot below shows that any choice > 1 leads to the conclusion that \n",
        "# FiveThirtyEight lost out to PredictIt this time around. \n",
        "\n",
        "expons =  np.linspace(0.75,2,100)\n",
        "pi_briers = [ adjusted_brier(expon,predictit_swing,trump_swing) for expon in expons]\n",
        "nate_briers = [ adjusted_brier(expon,nate_swing,trump_swing) for expon in expons]\n",
        "plt.plot(expons,nate_briers,expons,pi_briers)\n",
        "plt.grid()\n",
        "plt.legend(['538','PredictIt'])\n",
        "plt.xlabel('Longshot effect exponent')\n",
        "plt.ylabel('Brier score')\n"
      ],
      "execution_count": null,
      "outputs": [
        {
          "output_type": "execute_result",
          "data": {
            "text/plain": [
              "Text(0, 0.5, 'Brier score')"
            ]
          },
          "metadata": {
            "tags": []
          },
          "execution_count": 8
        },
        {
          "output_type": "display_data",
          "data": {
            "image/png": "[encoded data removed]",
            "text/plain": [
              "<Figure size 432x288 with 1 Axes>"
            ]
          },
          "metadata": {
            "tags": [],
            "needs_background": "light"
          }
        }
      ]
    },
    {
      "cell_type": "markdown",
      "metadata": {
        "id": "Kc1p7rF8LXCt"
      },
      "source": [
        "This isn't a good picture for FiveThirtyEight. Let's see if likelihood serves them any better. "
      ]
    },
    {
      "cell_type": "code",
      "metadata": {
        "id": "8Mxied8GJ7mo",
        "outputId": "3e68fb95-34c2-4b5a-ebe4-d120aedacbbb",
        "colab": {
          "base_uri": "https://localhost:8080/",
          "height": 297
        }
      },
      "source": [
        "import math\n",
        "def adjusted_loglike(expon,predictions,result):\n",
        "   fixed = dict([(s,p**expon/(p**expon+(1-p)**expon)) for s,p in predictions.items()])\n",
        "   return -np.mean([ math.log(p) if result[s] else math.log(1-p) for s,p in fixed.items() ])\n",
        "expons =  np.linspace(0.5,2,100)\n",
        "pi_ll = [ adjusted_loglike(expon,predictit_swing,trump_swing) for expon in expons]\n",
        "nate_ll = [ adjusted_loglike(expon,nate_swing,trump_swing) for expon in expons]\n",
        "plt.plot(expons,nate_ll,expons,pi_ll)\n",
        "plt.grid()\n",
        "plt.legend(['538','PredictIt'])\n",
        "plt.xlabel('Longshot effect exponent')\n",
        "plt.ylabel('Negative Log-Likelihood')"
      ],
      "execution_count": null,
      "outputs": [
        {
          "output_type": "execute_result",
          "data": {
            "text/plain": [
              "Text(0, 0.5, 'Negative Log-Likelihood')"
            ]
          },
          "metadata": {
            "tags": []
          },
          "execution_count": 9
        },
        {
          "output_type": "display_data",
          "data": {
            "image/png": "[encoded data removed]",
            "text/plain": [
              "<Figure size 432x288 with 1 Axes>"
            ]
          },
          "metadata": {
            "tags": [],
            "needs_background": "light"
          }
        }
      ]
    },
    {
      "cell_type": "markdown",
      "metadata": {
        "id": "vKpCt7TiLv8h"
      },
      "source": [
        "No such luck. If anything the picture here is worse for FiveThirtyEight, even if you make no adjustment for LongShot. "
      ]
    },
    {
      "cell_type": "code",
      "metadata": {
        "id": "4HsOdoNuiIf2",
        "outputId": "ce804840-44e3-4c7c-cf4f-a3b17f3b938e",
        "colab": {
          "base_uri": "https://localhost:8080/"
        }
      },
      "source": [
        "adjusted_loglike(1,predictit_swing,trump_swing),adjusted_loglike(1,nate_swing,trump_swing)"
      ],
      "execution_count": null,
      "outputs": [
        {
          "output_type": "execute_result",
          "data": {
            "text/plain": [
              "(0.4175868026706624, 0.4345285761879868)"
            ]
          },
          "metadata": {
            "tags": []
          },
          "execution_count": 18
        }
      ]
    },
    {
      "cell_type": "markdown",
      "metadata": {
        "id": "DEMb3ZHhL-g7"
      },
      "source": [
        "### So how does FiveThirtyEight lose out to PredictIt? "
      ]
    },
    {
      "cell_type": "code",
      "metadata": {
        "id": "c75pS5r79x3C",
        "outputId": "621164b5-63c9-42d7-e0bb-1b4d87842134",
        "colab": {
          "base_uri": "https://localhost:8080/"
        }
      },
      "source": [
        "comparison = [ (s,t,predictit_swing[s],nate_swing[s]) for s,t in trump_swing.items()]\n",
        "comparison"
      ],
      "execution_count": null,
      "outputs": [
        {
          "output_type": "execute_result",
          "data": {
            "text/plain": [
              "[('Arizona', 0, 0.43, 0.319775),\n",
              " ('Iowa', 1, 0.63, 0.6013),\n",
              " ('Georgia', 0.04, 0.57, 0.418475),\n",
              " ('Florida', 1, 0.58, 0.309),\n",
              " ('Minnesota', 0, 0.25, 0.0419),\n",
              " ('New Hampshire', 0, 0.21, 0.10915),\n",
              " ('Pennsylvania', 0, 0.38, 0.1569),\n",
              " ('North Carolina', 0.94, 0.47, 0.360675),\n",
              " ('Texas', 1, 0.71, 0.617525),\n",
              " ('Michigan', 0, 0.3, 0.053175),\n",
              " ('Wisconsin', 0, 0.28, 0.056425),\n",
              " ('Ohio', 1, 0.68, 0.546725),\n",
              " ('Alaska', 1, 0.88, 0.8505)]"
            ]
          },
          "metadata": {
            "tags": []
          },
          "execution_count": 22
        }
      ]
    },
    {
      "cell_type": "markdown",
      "metadata": {
        "id": "7kgReZ8ZMGr1"
      },
      "source": [
        "So we see that against the naive interpretation of PredictIt, FiveThirtyEight picks up Brier in Arizona, Georgia, Minnessota, New Hampshire, Pennsylvania, Michigan, Wisconsin.  Loses big in Florida. Loses in Iowa, North Carolina, Texas, Ohio and Alaska. \n",
        "\n",
        "On the other hand..."
      ]
    },
    {
      "cell_type": "code",
      "metadata": {
        "id": "kfl1gLdGM64f",
        "outputId": "0961fe30-caa6-4b5d-e42b-923954d2e501",
        "colab": {
          "base_uri": "https://localhost:8080/"
        }
      },
      "source": [
        "expon = 1.3\n",
        "predictit_swing_adj = dict([(s,p**expon/(p**expon+(1-p)**expon)) for s,p in predictit_swing.items()])\n",
        "comparison_adj = [ (s,t,predictit_swing_adj[s],nate_swing[s]) for s,t in trump_swing.items()]\n",
        "comparison_adj"
      ],
      "execution_count": null,
      "outputs": [
        {
          "output_type": "execute_result",
          "data": {
            "text/plain": [
              "[('Arizona', 0, 0.40940962293076516, 0.319775),\n",
              " ('Iowa', 1, 0.6663854245742022, 0.6013),\n",
              " ('Georgia', 0.04, 0.5905903770692347, 0.418475),\n",
              " ('Florida', 1, 0.6033888240750176, 0.309),\n",
              " ('Minnesota', 0, 0.19337992781764063, 0.0419),\n",
              " ('New Hampshire', 0, 0.15156189591295302, 0.10915),\n",
              " ('Pennsylvania', 0, 0.34605790462003205, 0.1569),\n",
              " ('North Carolina', 0.94, 0.4610322831808, 0.360675),\n",
              " ('Texas', 1, 0.7620586417812818, 0.617525),\n",
              " ('Michigan', 0, 0.2494613381806368, 0.053175),\n",
              " ('Wisconsin', 0, 0.22656669309192073, 0.056425),\n",
              " ('Ohio', 1, 0.7270890370763118, 0.546725),\n",
              " ('Alaska', 1, 0.9302255517774538, 0.8505)]"
            ]
          },
          "metadata": {
            "tags": []
          },
          "execution_count": 25
        }
      ]
    },
    {
      "cell_type": "markdown",
      "metadata": {
        "id": "cGQeZyzlNpno"
      },
      "source": [
        "We see that the unwinding the longshot effect increases the discrepancy in states like Texas and Ohio, Alaska. FiveThirtyEight can't recover from that. "
      ]
    },
    {
      "cell_type": "markdown",
      "metadata": {
        "id": "jCTHNfq9PD9f"
      },
      "source": [
        "## Adding more states \n",
        "\n",
        "I find it problematic that FiveThirtyEight does worse in swing states. But let's add some more states in and see if it makes a difference. "
      ]
    },
    {
      "cell_type": "code",
      "metadata": {
        "id": "A7O604G2MoAH"
      },
      "source": [
        "predictit_more = {'California':0.06,'Washington':0.06,'Oregon':0.097,\n",
        "                  'North Dakota':0.96,'South Dakota':0.97,'Nebraska':0.97,\n",
        "                  'Kansas':0.96,'Virginia':0.07,'Mississippi':0.94,\n",
        "                  'Louisiana':0.97,'Alabama':0.97,'West Virginia':0.96,\n",
        "                  'Maryland':0.05}\n",
        "\n",
        "trump_more = {'California':0,'Washington':0,'Oregon':0,\n",
        "              'North Dakota':1,'South Dakota':1,'Nebraska':1,'Kansas':1,\n",
        "              'Virginia':0,'Mississippi':1,'Louisiana':1,'Alabama':1,\n",
        "              'West Virginia':1,'Maryland':0}\n",
        "predictit_more.update(predictit_swing)\n",
        "trump_more.update(trump_swing)\n",
        "nate_more = dict([(s,p) for s,p in nate.items() if s in predictit_more])\n"
      ],
      "execution_count": null,
      "outputs": []
    },
    {
      "cell_type": "code",
      "metadata": {
        "id": "pZ7tIzMCN2P-",
        "outputId": "5198fd47-68f6-49b2-d19e-eceb43d582e6",
        "colab": {
          "base_uri": "https://localhost:8080/",
          "height": 297
        }
      },
      "source": [
        "# Does it make a difference??\n",
        "# Short answer is no, and including more states makes it harder to improve the 538 model. \n",
        "\n",
        "expons =  np.linspace(0.5,2,100)\n",
        "pi_briers = [ adjusted_brier(expon,predictit_more,trump_more) for expon in expons]\n",
        "nate_briers = [ adjusted_brier(expon,nate_more,trump_more) for expon in expons]\n",
        "import matplotlib.pyplot as plt\n",
        "plt.plot(expons,nate_briers,expons,pi_briers)\n",
        "plt.grid()\n",
        "plt.legend(['538','PredictIt'])\n",
        "plt.xlabel('Longshot effect exponent (more states)')\n",
        "plt.ylabel('Brier score')"
      ],
      "execution_count": null,
      "outputs": [
        {
          "output_type": "execute_result",
          "data": {
            "text/plain": [
              "Text(0, 0.5, 'Brier score')"
            ]
          },
          "metadata": {
            "tags": []
          },
          "execution_count": 11
        },
        {
          "output_type": "display_data",
          "data": {
            "image/png": "[encoded data removed]",
            "text/plain": [
              "<Figure size 432x288 with 1 Axes>"
            ]
          },
          "metadata": {
            "tags": [],
            "needs_background": "light"
          }
        }
      ]
    },
    {
      "cell_type": "markdown",
      "metadata": {
        "id": "vU8DHlAoxNkp"
      },
      "source": [
        "\"not really\". Add more states as you see fit, but be mindful of the 5% charge for withdrawals and 10% charge for winnings. "
      ]
    },
    {
      "cell_type": "code",
      "metadata": {
        "id": "L7ERswBRwEmG",
        "outputId": "cb380ffc-f0b1-486a-b920-9d7099f8d9b3",
        "colab": {
          "base_uri": "https://localhost:8080/"
        }
      },
      "source": [
        "cpolls = [0.591,0.540,0.498,0.586,0.372,0.467,0.434,0.443,0.529,0.504,0.365,0.605,0.432,0.554,0.521,0.562,0.597,0.559,0.474,0.387,0.376,0.486,0.480,0.552,0.573,0.561,0.579,0.476,0.484,0.433,0.455,0.401,0.499,0.619,0.539,0.622,0.444,0.518,0.427,0.522,0.597,0.583,0.525,0.552,0.386,0.465,0.443,0.642,0.473,0.659]\n",
        "a = 2\n",
        "cprobs = [ math.exp(a*p)/(math.exp(a*(1-p))+math.exp(a*p)) for p in cpolls ]\n",
        "states = [\"Alabama\",\"Alaska\",\"Arizona\",\"Arkansas\",\"California\",\"Colorado\",\"Connecticut\",\"Delaware\",\"Florida\",\"Georgia\",\"Hawaii\",\"Idaho\",\"Illinois\",\"Indiana\",\"Iowa\",\"Kansas\",\"Kentucky\",\"Louisiana\",\"Maine\",\"Maryland\",\"Massachusetts\",\"Michigan\",\"Minnesota\",\"Mississippi\",\"Missouri\",\"Montana\",\"Nebraska\",\"Nevada\",\"New Hampshire\",\"New Jersey\",\"New Mexico\",\"New York\",\"North Carolina\",\"North Dakota\",\"Ohio\",\"Oklahoma\",\"Oregon\",\"Pennsylvania\",\"Rhode Island\",\"South Carolina\",\"South Dakota\",\"Tennessee\",\"Texas\",\"Utah\",\"Vermont\",\"Virginia\",\"Washington\",\"West Virginia\",\"Wisconsin\",\"Wyoming\"]\n",
        "cascend = dict(zip(states,probs))\n",
        "cascend_more = dict([(k,v) for k,v in cascend.items() if k in trump_more])\n",
        "cascend_briers = [ adjusted_brier(expon,cascend_more,trump_more) for expon in expons]\n",
        "nate_briers = [ adjusted_brier(expon,nate_more,trump_more) for expon in expons]\n",
        "sum(cascend_briers),sum(nate_briers)"
      ],
      "execution_count": null,
      "outputs": [
        {
          "output_type": "execute_result",
          "data": {
            "text/plain": [
              "(30.886799045694005, 26.62579457074896)"
            ]
          },
          "metadata": {
            "tags": []
          },
          "execution_count": 33
        }
      ]
    },
    {
      "cell_type": "code",
      "metadata": {
        "id": "ACm_-DNizNXp",
        "outputId": "9df16353-bccf-4a04-e536-2f7280094379",
        "colab": {
          "base_uri": "https://localhost:8080/"
        }
      },
      "source": [
        "len(cascend_briers), len(nate_briers)"
      ],
      "execution_count": null,
      "outputs": [
        {
          "output_type": "execute_result",
          "data": {
            "text/plain": [
              "(100, 100)"
            ]
          },
          "metadata": {
            "tags": []
          },
          "execution_count": 20
        }
      ]
    },
    {
      "cell_type": "code",
      "metadata": {
        "id": "0e1lOEp0zNwi",
        "outputId": "f905e2ff-1b36-4829-90c8-0aff75235d19",
        "colab": {
          "base_uri": "https://localhost:8080/",
          "height": 297
        }
      },
      "source": [
        "\n",
        "expons =  np.linspace(0.75,15,100)\n",
        "cascend_briers = [ adjusted_brier(expon,cascend_more,trump_more) for expon in expons]\n",
        "nate_briers = [ adjusted_brier(expon,nate_more,trump_more) for expon in expons]\n",
        "plt.plot(expons,nate_briers,expons,pi_briers)\n",
        "plt.grid()\n",
        "plt.legend(['FiveThirtyEight','Cascend'])\n",
        "plt.xlabel('Longshot effect exponent')\n",
        "plt.ylabel('Brier score')\n"
      ],
      "execution_count": null,
      "outputs": [
        {
          "output_type": "execute_result",
          "data": {
            "text/plain": [
              "Text(0, 0.5, 'Brier score')"
            ]
          },
          "metadata": {
            "tags": []
          },
          "execution_count": 34
        },
        {
          "output_type": "display_data",
          "data": {
            "image/png": "[encoded data removed]",
            "text/plain": [
              "<Figure size 432x288 with 1 Axes>"
            ]
          },
          "metadata": {
            "tags": [],
            "needs_background": "light"
          }
        }
      ]
    }
  ]
}